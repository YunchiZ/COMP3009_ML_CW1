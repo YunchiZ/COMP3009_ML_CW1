{
 "cells": [
  {
   "cell_type": "code",
   "execution_count": 22,
   "id": "0f2e05ef-5eb7-41c2-abe0-6420c8283c84",
   "metadata": {},
   "outputs": [
    {
     "name": "stdout",
     "output_type": "stream",
     "text": [
      "Requirement already satisfied: ucimlrepo in /Users/cleon/opt/anaconda3/lib/python3.9/site-packages (0.0.3)\n",
      "Note: you may need to restart the kernel to use updated packages.\n"
     ]
    }
   ],
   "source": [
    "pip install ucimlrepo"
   ]
  },
  {
   "cell_type": "code",
   "execution_count": 115,
   "id": "b55b30b7-e09b-4430-bc42-30491f4dfda2",
   "metadata": {},
   "outputs": [],
   "source": [
    "#LOAD DATA\n",
    "from ucimlrepo import fetch_ucirepo \n",
    "  \n",
    "# fetch dataset \n",
    "adult = fetch_ucirepo(id=2) \n",
    "  \n",
    "# data (as pandas dataframes) \n",
    "X = adult.data.features \n",
    "y = adult.data.targets \n"
   ]
  },
  {
   "cell_type": "code",
   "execution_count": 120,
   "id": "54292794-6817-45e9-bdda-49e74b59b7e6",
   "metadata": {},
   "outputs": [],
   "source": [
    "#CLEAN DATA\n",
    "import matplotlib.pyplot as plt\n",
    "import numpy as np\n",
    "import pandas as pd\n",
    "import random\n",
    "import seaborn as sns\n",
    "import scipy\n",
    "from scipy.stats import pearsonr\n",
    "import sklearn\n",
    "from sklearn.preprocessing import StandardScaler \n",
    "from sklearn.preprocessing import LabelEncoder\n",
    "from sklearn import datasets, linear_model\n",
    "from sklearn import preprocessing\n",
    "from sklearn.model_selection import train_test_split, GridSearchCV, KFold, cross_val_score\n",
    "\n",
    "\n",
    "all_df = pd.read_csv(\"./adult.data\",index_col=False)\n",
    "\n",
    "column_titles = ['age', 'workclass', 'fnlwgt', 'education', 'education-num', 'marital-status', 'occupation', 'relationship', 'race', 'sex', 'capital-gain', 'capital-loss', 'hours-per-week', 'native-country', 'income']\n",
    "\n",
    "# Assign the column titles to the DataFrame using the columns attribute.\n",
    "all_df.columns = column_titles\n",
    "\n",
    "X = all_df\n",
    "le = LabelEncoder()\n",
    "X['workclass'] = le.fit_transform(X['workclass'])\n",
    "X['education'] = le.fit_transform(X['education'])\n",
    "X['marital-status'] = le.fit_transform(X['marital-status'])\n",
    "X['occupation'] = le.fit_transform(X['occupation'])\n",
    "X['relationship'] = le.fit_transform(X['relationship'])\n",
    "X['race'] = le.fit_transform(X['race'])\n",
    "X['sex'] = le.fit_transform(X['sex'])\n",
    "X['native-country'] = le.fit_transform(X['native-country'])\n",
    "X = X.drop('income', axis=1)\n",
    "\n",
    "y = all_df\n",
    "\n",
    "y['income'].replace(' <=50K', 0, inplace = True)\n",
    "y['income'].replace(' <=50K.', 0, inplace = True)\n",
    "y['income'].replace(' >50K', 1, inplace = True)\n",
    "y['income'].replace(' >50K.', 1, inplace = True)\n",
    "\n",
    "y = y['income']"
   ]
  },
  {
   "cell_type": "code",
   "execution_count": 121,
   "id": "605a95b7-de30-488a-a0eb-a04a8dae5ac4",
   "metadata": {},
   "outputs": [],
   "source": [
    "#SPLIT DATA\n",
    "scaler = StandardScaler()\n",
    "Xs = scaler.fit_transform(X)\n",
    "Xs_train, Xs_test, y_train, y_test = train_test_split(Xs, y, test_size=0.3,random_state=1, stratify=y)"
   ]
  },
  {
   "cell_type": "code",
   "execution_count": 122,
   "id": "022f552b-4285-4cd1-81d6-ac32ff8c2a74",
   "metadata": {},
   "outputs": [
    {
     "name": "stdout",
     "output_type": "stream",
     "text": [
      "The classifier accuracy score of MLP is 0.85\n"
     ]
    }
   ],
   "source": [
    "#APPLY NEURAL NETWORK, MLP CLASSIFIER\n",
    "from sklearn.neural_network import MLPClassifier\n",
    "mlp_clf = MLPClassifier(random_state=1, max_iter=500).fit(Xs_train, y_train)\n",
    "mlp_clf.predict_proba(Xs_test)\n",
    "classifier_score = mlp_clf.score(Xs_test, y_test)\n",
    "print('The classifier accuracy score of MLP is {:03.2f}'.format(classifier_score))"
   ]
  },
  {
   "cell_type": "code",
   "execution_count": 55,
   "id": "6c46bc81-3bb1-49e8-bb96-96221aa9f7e9",
   "metadata": {},
   "outputs": [],
   "source": [
    "#K-FOLD\n",
    "param_grid = {\n",
    "    'hidden_layer_sizes': [2, 3],\n",
    "    'max_iter': [700, 800]\n",
    "}\n",
    "# kf = KFold(n_splits=10, shuffle=True, random_state=1)\n",
    "inner_cv = KFold(n_splits=4, shuffle=True, random_state=1)\n",
    "outer_cv = KFold(n_splits=4, shuffle=True, random_state=1)\n",
    "grid_search = GridSearchCV(MLPClassifier(), param_grid, cv=inner_cv, scoring='neg_mean_squared_error')"
   ]
  },
  {
   "cell_type": "code",
   "execution_count": 57,
   "id": "bf36ba6c-7b7e-4105-b0d0-74c1f6ec2192",
   "metadata": {},
   "outputs": [
    {
     "data": {
      "text/plain": [
       "GridSearchCV(cv=KFold(n_splits=5, random_state=1, shuffle=True),\n",
       "             estimator=MLPClassifier(),\n",
       "             param_grid={'hidden_layer_sizes': [2, 3], 'max_iter': [300, 500]},\n",
       "             scoring='neg_mean_squared_error')"
      ]
     },
     "execution_count": 57,
     "metadata": {},
     "output_type": "execute_result"
    }
   ],
   "source": [
    "grid_search.fit(Xs_train, y_train)\n",
    "non_nested_scores = grid_search.best_score_\n",
    "print(non_nested_scores)\n"
   ]
  },
  {
   "cell_type": "code",
   "execution_count": 63,
   "id": "dcde5c0b-41c0-4722-8c66-b6d7bc99024d",
   "metadata": {},
   "outputs": [
    {
     "name": "stdout",
     "output_type": "stream",
     "text": [
      "-0.24104958623040068\n"
     ]
    }
   ],
   "source": [
    "nested_cv_results = cross_val_score(grid_search, Xs_train, y_train, cv=outer_cv).mean()\n",
    "print(nested_cv_results)"
   ]
  },
  {
   "cell_type": "code",
   "execution_count": 64,
   "id": "ee98f062-66f3-48e4-aedd-2db639f95ead",
   "metadata": {},
   "outputs": [],
   "source": [
    "best_params = grid_search.best_params_\n",
    "best_mlp = grid_search.best_estimator_\n",
    "print(best_params)\n",
    "print(best_mlp)"
   ]
  },
  {
   "cell_type": "code",
   "execution_count": 68,
   "id": "d18078b9-4491-44d6-8e4e-96bf4c3d5287",
   "metadata": {},
   "outputs": [],
   "source": [
    "#CHANGE TO LOGISTIC REGRESSION FOR CLASSIFICATION"
   ]
  },
  {
   "cell_type": "code",
   "execution_count": 129,
   "id": "0c27fffb-9496-46e6-8713-620fcb692295",
   "metadata": {},
   "outputs": [
    {
     "data": {
      "text/plain": [
       "LogisticRegression()"
      ]
     },
     "execution_count": 129,
     "metadata": {},
     "output_type": "execute_result"
    }
   ],
   "source": [
    "from sklearn.linear_model import LogisticRegression\n",
    "log_reg = LogisticRegression(max_iter=100)\n",
    "log_reg.fit(Xs_train, y_train)"
   ]
  },
  {
   "cell_type": "code",
   "execution_count": 130,
   "id": "62df084c-cc98-4b4f-9895-bf80f4340435",
   "metadata": {},
   "outputs": [
    {
     "name": "stdout",
     "output_type": "stream",
     "text": [
      "The classifier accuracy score is 0.83\n"
     ]
    }
   ],
   "source": [
    "classifier_score_reg = log_reg.score(Xs_test, y_test)\n",
    "print('The classifier accuracy score is {:03.2f}'.format(classifier_score_reg))"
   ]
  },
  {
   "cell_type": "code",
   "execution_count": 131,
   "id": "0613096b-68a8-4e1b-b5e3-96534fdb2c4b",
   "metadata": {},
   "outputs": [],
   "source": [
    "param_grid = {\n",
    "    'intercept_scaling': [1, 2, 3],\n",
    "    'C': [1, 2, 3],\n",
    "    'max_iter': [200, 300]\n",
    "}\n",
    "# kf = KFold(n_splits=10, shuffle=True, random_state=1)\n",
    "inner_cv = KFold(n_splits=5, shuffle=True, random_state=1)\n",
    "outer_cv = KFold(n_splits=5, shuffle=True, random_state=1)\n",
    "grid_search = GridSearchCV(LogisticRegression(), param_grid, cv=inner_cv, scoring='neg_mean_squared_error')"
   ]
  },
  {
   "cell_type": "code",
   "execution_count": 132,
   "id": "e8fb9042-6295-478e-ac5d-4d3aaef565c0",
   "metadata": {},
   "outputs": [
    {
     "data": {
      "text/plain": [
       "GridSearchCV(cv=KFold(n_splits=5, random_state=1, shuffle=True),\n",
       "             estimator=LogisticRegression(),\n",
       "             param_grid={'C': [1, 2, 3], 'intercept_scaling': [1, 2, 3],\n",
       "                         'max_iter': [200, 300]},\n",
       "             scoring='neg_mean_squared_error')"
      ]
     },
     "execution_count": 132,
     "metadata": {},
     "output_type": "execute_result"
    }
   ],
   "source": [
    "grid_search.fit(Xs_train, y_train)"
   ]
  },
  {
   "cell_type": "code",
   "execution_count": 133,
   "id": "16052ccd-5f6e-4fcc-a04b-a10fd74542c1",
   "metadata": {},
   "outputs": [
    {
     "name": "stdout",
     "output_type": "stream",
     "text": [
      "-0.1765530303722988\n"
     ]
    }
   ],
   "source": [
    "non_nested_scores = grid_search.best_score_\n",
    "print(non_nested_scores)"
   ]
  },
  {
   "cell_type": "code",
   "execution_count": 134,
   "id": "f0b199b5-a099-4231-aa04-ce8549a4ff3b",
   "metadata": {},
   "outputs": [
    {
     "name": "stdout",
     "output_type": "stream",
     "text": [
      "-0.17664078816080253\n"
     ]
    }
   ],
   "source": [
    "nested_cv_results = cross_val_score(grid_search, Xs_train, y_train, cv=outer_cv).mean()\n",
    "print(nested_cv_results)"
   ]
  },
  {
   "cell_type": "code",
   "execution_count": 136,
   "id": "1ef45864-339c-44c0-b19d-4ecb4c47ed29",
   "metadata": {},
   "outputs": [
    {
     "name": "stdout",
     "output_type": "stream",
     "text": [
      "{'C': 1, 'intercept_scaling': 1, 'max_iter': 200}\n",
      "LogisticRegression(C=1, max_iter=200)\n"
     ]
    }
   ],
   "source": [
    "best_params = grid_search.best_params_\n",
    "best_log = grid_search.best_estimator_\n",
    "print(best_params)\n",
    "print(best_log)"
   ]
  },
  {
   "cell_type": "code",
   "execution_count": null,
   "id": "05eb05d3-21ef-47c5-987f-9ca9ada1bc33",
   "metadata": {},
   "outputs": [],
   "source": []
  }
 ],
 "metadata": {
  "kernelspec": {
   "display_name": "Python 3 (ipykernel)",
   "language": "python",
   "name": "python3"
  },
  "language_info": {
   "codemirror_mode": {
    "name": "ipython",
    "version": 3
   },
   "file_extension": ".py",
   "mimetype": "text/x-python",
   "name": "python",
   "nbconvert_exporter": "python",
   "pygments_lexer": "ipython3",
   "version": "3.9.13"
  }
 },
 "nbformat": 4,
 "nbformat_minor": 5
}
