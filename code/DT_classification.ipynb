{
 "cells": [
  {
   "cell_type": "code",
   "execution_count": 1,
   "metadata": {},
   "outputs": [],
   "source": [
    "import pandas as pd\n",
    "from sklearn.tree import DecisionTreeClassifier\n",
    "from sklearn import tree\n",
    "from ucimlrepo import fetch_ucirepo\n",
    "from sklearn.model_selection import train_test_split,cross_val_score\n",
    "from sklearn.preprocessing import LabelEncoder\n",
    "from sklearn.preprocessing import MinMaxScaler\n",
    "from sklearn.model_selection import GridSearchCV, KFold"
   ]
  },
  {
   "cell_type": "code",
   "execution_count": 2,
   "metadata": {},
   "outputs": [],
   "source": [
    "from ucimlrepo import fetch_ucirepo \n",
    "  \n",
    "adult = fetch_ucirepo(id=2) \n",
    "\n",
    "X = adult.data.features \n",
    "y = adult.data.targets "
   ]
  },
  {
   "cell_type": "code",
   "execution_count": 3,
   "metadata": {},
   "outputs": [
    {
     "name": "stderr",
     "output_type": "stream",
     "text": [
      "C:\\Users\\legion\\AppData\\Local\\Temp\\ipykernel_31944\\3734247557.py:2: SettingWithCopyWarning: \n",
      "A value is trying to be set on a copy of a slice from a DataFrame.\n",
      "Try using .loc[row_indexer,col_indexer] = value instead\n",
      "\n",
      "See the caveats in the documentation: https://pandas.pydata.org/pandas-docs/stable/user_guide/indexing.html#returning-a-view-versus-a-copy\n",
      "  X['workclass'] = le.fit_transform(X['workclass'])\n",
      "C:\\Users\\legion\\AppData\\Local\\Temp\\ipykernel_31944\\3734247557.py:3: SettingWithCopyWarning: \n",
      "A value is trying to be set on a copy of a slice from a DataFrame.\n",
      "Try using .loc[row_indexer,col_indexer] = value instead\n",
      "\n",
      "See the caveats in the documentation: https://pandas.pydata.org/pandas-docs/stable/user_guide/indexing.html#returning-a-view-versus-a-copy\n",
      "  X['education'] = le.fit_transform(X['education'])\n",
      "C:\\Users\\legion\\AppData\\Local\\Temp\\ipykernel_31944\\3734247557.py:4: SettingWithCopyWarning: \n",
      "A value is trying to be set on a copy of a slice from a DataFrame.\n",
      "Try using .loc[row_indexer,col_indexer] = value instead\n",
      "\n",
      "See the caveats in the documentation: https://pandas.pydata.org/pandas-docs/stable/user_guide/indexing.html#returning-a-view-versus-a-copy\n",
      "  X['marital-status'] = le.fit_transform(X['marital-status'])\n",
      "C:\\Users\\legion\\AppData\\Local\\Temp\\ipykernel_31944\\3734247557.py:5: SettingWithCopyWarning: \n",
      "A value is trying to be set on a copy of a slice from a DataFrame.\n",
      "Try using .loc[row_indexer,col_indexer] = value instead\n",
      "\n",
      "See the caveats in the documentation: https://pandas.pydata.org/pandas-docs/stable/user_guide/indexing.html#returning-a-view-versus-a-copy\n",
      "  X['occupation'] = le.fit_transform(X['occupation'])\n",
      "C:\\Users\\legion\\AppData\\Local\\Temp\\ipykernel_31944\\3734247557.py:6: SettingWithCopyWarning: \n",
      "A value is trying to be set on a copy of a slice from a DataFrame.\n",
      "Try using .loc[row_indexer,col_indexer] = value instead\n",
      "\n",
      "See the caveats in the documentation: https://pandas.pydata.org/pandas-docs/stable/user_guide/indexing.html#returning-a-view-versus-a-copy\n",
      "  X['relationship'] = le.fit_transform(X['relationship'])\n",
      "C:\\Users\\legion\\AppData\\Local\\Temp\\ipykernel_31944\\3734247557.py:7: SettingWithCopyWarning: \n",
      "A value is trying to be set on a copy of a slice from a DataFrame.\n",
      "Try using .loc[row_indexer,col_indexer] = value instead\n",
      "\n",
      "See the caveats in the documentation: https://pandas.pydata.org/pandas-docs/stable/user_guide/indexing.html#returning-a-view-versus-a-copy\n",
      "  X['race'] = le.fit_transform(X['race'])\n",
      "C:\\Users\\legion\\AppData\\Local\\Temp\\ipykernel_31944\\3734247557.py:8: SettingWithCopyWarning: \n",
      "A value is trying to be set on a copy of a slice from a DataFrame.\n",
      "Try using .loc[row_indexer,col_indexer] = value instead\n",
      "\n",
      "See the caveats in the documentation: https://pandas.pydata.org/pandas-docs/stable/user_guide/indexing.html#returning-a-view-versus-a-copy\n",
      "  X['sex'] = le.fit_transform(X['sex'])\n",
      "C:\\Users\\legion\\AppData\\Local\\Temp\\ipykernel_31944\\3734247557.py:9: SettingWithCopyWarning: \n",
      "A value is trying to be set on a copy of a slice from a DataFrame.\n",
      "Try using .loc[row_indexer,col_indexer] = value instead\n",
      "\n",
      "See the caveats in the documentation: https://pandas.pydata.org/pandas-docs/stable/user_guide/indexing.html#returning-a-view-versus-a-copy\n",
      "  X['native-country'] = le.fit_transform(X['native-country'])\n"
     ]
    }
   ],
   "source": [
    "le = LabelEncoder()\n",
    "X['workclass'] = le.fit_transform(X['workclass'])\n",
    "X['education'] = le.fit_transform(X['education'])\n",
    "X['marital-status'] = le.fit_transform(X['marital-status'])\n",
    "X['occupation'] = le.fit_transform(X['occupation'])\n",
    "X['relationship'] = le.fit_transform(X['relationship'])\n",
    "X['race'] = le.fit_transform(X['race'])\n",
    "X['sex'] = le.fit_transform(X['sex'])\n",
    "X['native-country'] = le.fit_transform(X['native-country'])\n",
    "\n",
    "\n",
    "scaler = MinMaxScaler()\n",
    "X = scaler.fit_transform(X)"
   ]
  },
  {
   "cell_type": "code",
   "execution_count": 4,
   "metadata": {},
   "outputs": [
    {
     "name": "stderr",
     "output_type": "stream",
     "text": [
      "C:\\Users\\legion\\AppData\\Local\\Temp\\ipykernel_31944\\490153091.py:1: SettingWithCopyWarning: \n",
      "A value is trying to be set on a copy of a slice from a DataFrame\n",
      "\n",
      "See the caveats in the documentation: https://pandas.pydata.org/pandas-docs/stable/user_guide/indexing.html#returning-a-view-versus-a-copy\n",
      "  y['income'].replace('<=50K', 0, inplace = True)\n",
      "C:\\Users\\legion\\AppData\\Local\\Temp\\ipykernel_31944\\490153091.py:2: SettingWithCopyWarning: \n",
      "A value is trying to be set on a copy of a slice from a DataFrame\n",
      "\n",
      "See the caveats in the documentation: https://pandas.pydata.org/pandas-docs/stable/user_guide/indexing.html#returning-a-view-versus-a-copy\n",
      "  y['income'].replace('<=50K.', 0, inplace = True)\n",
      "C:\\Users\\legion\\AppData\\Local\\Temp\\ipykernel_31944\\490153091.py:3: SettingWithCopyWarning: \n",
      "A value is trying to be set on a copy of a slice from a DataFrame\n",
      "\n",
      "See the caveats in the documentation: https://pandas.pydata.org/pandas-docs/stable/user_guide/indexing.html#returning-a-view-versus-a-copy\n",
      "  y['income'].replace('>50K', 1, inplace = True)\n",
      "C:\\Users\\legion\\AppData\\Local\\Temp\\ipykernel_31944\\490153091.py:4: SettingWithCopyWarning: \n",
      "A value is trying to be set on a copy of a slice from a DataFrame\n",
      "\n",
      "See the caveats in the documentation: https://pandas.pydata.org/pandas-docs/stable/user_guide/indexing.html#returning-a-view-versus-a-copy\n",
      "  y['income'].replace('>50K.', 1, inplace = True)\n"
     ]
    }
   ],
   "source": [
    "y['income'].replace('<=50K', 0, inplace = True)\n",
    "y['income'].replace('<=50K.', 0, inplace = True)\n",
    "y['income'].replace('>50K', 1, inplace = True)\n",
    "y['income'].replace('>50K.', 1, inplace = True)"
   ]
  },
  {
   "cell_type": "code",
   "execution_count": 5,
   "metadata": {},
   "outputs": [],
   "source": [
    "Xs_train, Xs_test, y_train, y_test = train_test_split(X, y, test_size=1/5, random_state=1)\n",
    "\n",
    "param_grid = {\n",
    "    'max_depth': [2, 3, 4, 5, 6, 7, 8],\n",
    "    'min_samples_split': [2, 4, 8],\n",
    "    'min_samples_leaf': [1, 2, 4]\n",
    "}\n",
    "# kf = KFold(n_splits=10, shuffle=True, random_state=1)\n",
    "inner_cv = KFold(n_splits=10, shuffle=True, random_state=1)\n",
    "outer_cv = KFold(n_splits=10, shuffle=True, random_state=1)\n",
    "grid_search = GridSearchCV(DecisionTreeClassifier(), param_grid, cv=inner_cv, scoring='accuracy')\n",
    "\n",
    "grid_search.fit(Xs_train, y_train)\n",
    "non_nested_scores = grid_search.best_score_\n",
    "nested_cv_results = cross_val_score(grid_search, Xs_train, y_train, cv=outer_cv).mean()\n",
    "\n",
    "best_params = grid_search.best_params_\n",
    "best_tree = grid_search.best_estimator_"
   ]
  },
  {
   "cell_type": "code",
   "execution_count": 6,
   "metadata": {},
   "outputs": [
    {
     "data": {
      "text/plain": [
       "0.8554752918350628"
      ]
     },
     "execution_count": 6,
     "metadata": {},
     "output_type": "execute_result"
    }
   ],
   "source": [
    "non_nested_scores"
   ]
  },
  {
   "cell_type": "code",
   "execution_count": 7,
   "metadata": {},
   "outputs": [
    {
     "data": {
      "text/plain": [
       "0.8551426408626984"
      ]
     },
     "execution_count": 7,
     "metadata": {},
     "output_type": "execute_result"
    }
   ],
   "source": [
    "nested_cv_results"
   ]
  },
  {
   "cell_type": "code",
   "execution_count": 8,
   "metadata": {},
   "outputs": [
    {
     "name": "stdout",
     "output_type": "stream",
     "text": [
      "0.8548469648889344\n"
     ]
    }
   ],
   "source": [
    "best_tree.fit(Xs_train,y_train)\n",
    "print(best_tree.score(Xs_test,y_test))"
   ]
  }
 ],
 "metadata": {
  "kernelspec": {
   "display_name": "MLE",
   "language": "python",
   "name": "python3"
  },
  "language_info": {
   "codemirror_mode": {
    "name": "ipython",
    "version": 3
   },
   "file_extension": ".py",
   "mimetype": "text/x-python",
   "name": "python",
   "nbconvert_exporter": "python",
   "pygments_lexer": "ipython3",
   "version": "3.10.13"
  }
 },
 "nbformat": 4,
 "nbformat_minor": 2
}
