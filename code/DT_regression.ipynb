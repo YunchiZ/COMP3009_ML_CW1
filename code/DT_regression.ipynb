{
 "cells": [
  {
   "cell_type": "code",
   "execution_count": 9,
   "metadata": {},
   "outputs": [],
   "source": [
    "import pandas as pd\n",
    "from sklearn.tree import DecisionTreeRegressor\n",
    "from sklearn import tree\n",
    "from ucimlrepo import fetch_ucirepo\n",
    "from sklearn.model_selection import train_test_split\n",
    "from sklearn.metrics import mean_squared_error\n",
    "from sklearn.preprocessing import MinMaxScaler\n",
    "from sklearn.model_selection import GridSearchCV, KFold\n",
    "from sklearn.model_selection import cross_val_score"
   ]
  },
  {
   "cell_type": "code",
   "execution_count": 10,
   "metadata": {},
   "outputs": [],
   "source": [
    "abalone = fetch_ucirepo(id=1) \n",
    "X = abalone.data.features \n",
    "y = abalone.data.targets "
   ]
  },
  {
   "cell_type": "code",
   "execution_count": 11,
   "metadata": {},
   "outputs": [
    {
     "name": "stderr",
     "output_type": "stream",
     "text": [
      "C:\\Users\\legion\\AppData\\Local\\Temp\\ipykernel_12876\\919359157.py:1: SettingWithCopyWarning: \n",
      "A value is trying to be set on a copy of a slice from a DataFrame\n",
      "\n",
      "See the caveats in the documentation: https://pandas.pydata.org/pandas-docs/stable/user_guide/indexing.html#returning-a-view-versus-a-copy\n",
      "  X['Sex'].replace('M', 0, inplace = True)\n",
      "C:\\Users\\legion\\AppData\\Local\\Temp\\ipykernel_12876\\919359157.py:2: SettingWithCopyWarning: \n",
      "A value is trying to be set on a copy of a slice from a DataFrame\n",
      "\n",
      "See the caveats in the documentation: https://pandas.pydata.org/pandas-docs/stable/user_guide/indexing.html#returning-a-view-versus-a-copy\n",
      "  X['Sex'].replace('F', 1, inplace = True)\n",
      "C:\\Users\\legion\\AppData\\Local\\Temp\\ipykernel_12876\\919359157.py:3: SettingWithCopyWarning: \n",
      "A value is trying to be set on a copy of a slice from a DataFrame\n",
      "\n",
      "See the caveats in the documentation: https://pandas.pydata.org/pandas-docs/stable/user_guide/indexing.html#returning-a-view-versus-a-copy\n",
      "  X['Sex'].replace('I', 2, inplace = True)\n"
     ]
    }
   ],
   "source": [
    "X['Sex'].replace('M', 0, inplace = True)\n",
    "X['Sex'].replace('F', 1, inplace = True)\n",
    "X['Sex'].replace('I', 2, inplace = True)\n",
    "\n",
    "scaler = MinMaxScaler()\n",
    "X = scaler.fit_transform(X)"
   ]
  },
  {
   "cell_type": "code",
   "execution_count": 12,
   "metadata": {},
   "outputs": [],
   "source": [
    "Xs_train, Xs_test, y_train, y_test = train_test_split(X, y, test_size=1/5, random_state=1)\n",
    "\n",
    "param_grid = {\n",
    "    'max_depth': [2, 3, 4, 5, 6, 7, 8],\n",
    "    'min_samples_split': [2, 4, 8],\n",
    "    'min_samples_leaf': [1, 2, 4]\n",
    "}\n",
    "# kf = KFold(n_splits=10, shuffle=True, random_state=1)\n",
    "inner_cv = KFold(n_splits=10, shuffle=True, random_state=1)\n",
    "outer_cv = KFold(n_splits=10, shuffle=True, random_state=1)\n",
    "grid_search = GridSearchCV(DecisionTreeRegressor(), param_grid, cv=inner_cv, scoring='neg_mean_squared_error')\n",
    "\n",
    "grid_search.fit(Xs_train, y_train)\n",
    "non_nested_scores = grid_search.best_score_\n",
    "\n",
    "nested_cv_results = cross_val_score(grid_search, Xs_train, y_train, cv=outer_cv).mean()\n",
    "\n",
    "best_params = grid_search.best_params_\n",
    "best_tree = grid_search.best_estimator_"
   ]
  },
  {
   "cell_type": "code",
   "execution_count": 13,
   "metadata": {},
   "outputs": [
    {
     "data": {
      "text/plain": [
       "-5.558570512526694"
      ]
     },
     "execution_count": 13,
     "metadata": {},
     "output_type": "execute_result"
    }
   ],
   "source": [
    "non_nested_scores"
   ]
  },
  {
   "cell_type": "code",
   "execution_count": 14,
   "metadata": {},
   "outputs": [
    {
     "data": {
      "text/plain": [
       "-5.624584490076972"
      ]
     },
     "execution_count": 14,
     "metadata": {},
     "output_type": "execute_result"
    }
   ],
   "source": [
    "nested_cv_results"
   ]
  },
  {
   "cell_type": "code",
   "execution_count": 15,
   "metadata": {},
   "outputs": [
    {
     "data": {
      "text/plain": [
       "5.401976481793877"
      ]
     },
     "execution_count": 15,
     "metadata": {},
     "output_type": "execute_result"
    }
   ],
   "source": [
    "# best_tree = DecisionTreeRegressor(max_depth=6)\n",
    "# best_tree.fit(Xs_train,y_train)\n",
    "\n",
    "test_mse = mean_squared_error(y_test, best_tree.predict(Xs_test))\n",
    "test_mse"
   ]
  },
  {
   "cell_type": "code",
   "execution_count": 16,
   "metadata": {},
   "outputs": [
    {
     "data": {
      "text/plain": [
       "Rings    9.936603\n",
       "pred     9.860153\n",
       "mape     0.158021\n",
       "dtype: float64"
      ]
     },
     "execution_count": 16,
     "metadata": {},
     "output_type": "execute_result"
    }
   ],
   "source": [
    "y_test['pred'] = best_tree.predict(Xs_test)\n",
    "y_test['mape'] = (y_test['pred'] - y_test['Rings']).abs()/y_test['Rings']\n",
    "y_test.mean()"
   ]
  }
 ],
 "metadata": {
  "kernelspec": {
   "display_name": "MLE",
   "language": "python",
   "name": "python3"
  },
  "language_info": {
   "codemirror_mode": {
    "name": "ipython",
    "version": 3
   },
   "file_extension": ".py",
   "mimetype": "text/x-python",
   "name": "python",
   "nbconvert_exporter": "python",
   "pygments_lexer": "ipython3",
   "version": "3.10.13"
  }
 },
 "nbformat": 4,
 "nbformat_minor": 2
}
