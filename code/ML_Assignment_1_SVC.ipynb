{
 "cells": [
  {
   "cell_type": "code",
   "execution_count": 1,
   "id": "606f0c63",
   "metadata": {},
   "outputs": [],
   "source": [
    "from ucimlrepo import fetch_ucirepo\n",
    "from sklearn.model_selection import KFold\n",
    "from sklearn.metrics import accuracy_score, classification_report, confusion_matrix, f1_score, precision_score, recall_score\n",
    "from sklearn.svm import SVC\n",
    "from sklearn.preprocessing import StandardScaler\n",
    "from sklearn.impute import SimpleImputer\n",
    "from sklearn.preprocessing import LabelEncoder\n",
    "from sklearn.model_selection import train_test_split\n",
    "from matplotlib import pyplot as plt\n",
    "import numpy as np\n",
    "\n",
    "adult = fetch_ucirepo(id=2)\n",
    "X = adult.data.features\n",
    "y = adult.data.targets"
   ]
  },
  {
   "cell_type": "code",
   "execution_count": 2,
   "id": "67723ec7",
   "metadata": {},
   "outputs": [],
   "source": [
    "X1= X.copy()\n",
    "\n",
    "imputer = SimpleImputer(strategy='most_frequent')\n",
    "X1[['workclass', 'occupation', 'native-country']] = imputer.fit_transform(X1[['workclass', 'occupation', 'native-country']])\n",
    "\n",
    "le = LabelEncoder()\n",
    "X1['workclass'] = le.fit_transform(X1['workclass'])\n",
    "X1['education'] = le.fit_transform(X1['education'])\n",
    "X1['marital-status'] = le.fit_transform(X1['marital-status'])\n",
    "X1['occupation'] = le.fit_transform(X1['occupation'])\n",
    "X1['relationship'] = le.fit_transform(X1['relationship'])\n",
    "X1['race'] = le.fit_transform(X1['race'])\n",
    "X1['sex'] = le.fit_transform(X1['sex'])\n",
    "X1['native-country'] = le.fit_transform(X1['native-country'])\n",
    "\n",
    "y1 = y.copy()\n",
    "y1['income'].replace('<=50K', 0, inplace=True)\n",
    "y1['income'].replace('<=50K.', 0, inplace=True)\n",
    "y1['income'].replace('>50K', 1, inplace=True)\n",
    "y1['income'].replace('>50K.', 1, inplace=True)"
   ]
  },
  {
   "cell_type": "code",
   "execution_count": 3,
   "id": "adfd677d",
   "metadata": {},
   "outputs": [],
   "source": [
    "scaler = StandardScaler()\n",
    "X1 = scaler.fit_transform(X1)\n",
    "y2 = y1.values.ravel()\n",
    "X_train, X_test, y_train, y_test = train_test_split(X1, y2, test_size=0.3, random_state=1, stratify=y2)\n",
    "X_subset, _, y_subset, _ = train_test_split(X1, y2, test_size=0.7, random_state=42, stratify=y2)"
   ]
  },
  {
   "cell_type": "code",
   "execution_count": 4,
   "metadata": {},
   "outputs": [
    {
     "name": "stdout",
     "output_type": "stream",
     "text": [
      "Classification accuracy (Adult test set, SVC): 0.85\n",
      "\n",
      "Confusion matrix (Adult test set, SVC):\n",
      "[[10529   618]\n",
      " [ 1559  1947]]\n",
      "\n",
      "Classification report (Adult test set, SVC):\n",
      "              precision    recall  f1-score   support\n",
      "\n",
      "           0       0.87      0.94      0.91     11147\n",
      "           1       0.76      0.56      0.64      3506\n",
      "\n",
      "    accuracy                           0.85     14653\n",
      "   macro avg       0.82      0.75      0.77     14653\n",
      "weighted avg       0.84      0.85      0.84     14653\n",
      "\n"
     ]
    }
   ],
   "source": [
    "svc = SVC()\n",
    "svc.fit(X_train, y_train)\n",
    "y_pred = svc.predict(X_test)\n",
    "accuracy = accuracy_score(y_test, y_pred)\n",
    "print(f\"Classification accuracy (Adult test set, SVC): {accuracy:.2f}\\n\")\n",
    "print(f\"Confusion matrix (Adult test set, SVC):\\n{confusion_matrix(y_test, y_pred)}\\n\")\n",
    "print(f\"Classification report (Adult test set, SVC):\\n{classification_report(y_test, y_pred)}\")"
   ]
  },
  {
   "cell_type": "code",
   "execution_count": 5,
   "metadata": {},
   "outputs": [
    {
     "name": "stdout",
     "output_type": "stream",
     "text": [
      "Classification accuracy (Adult set, SVC): 0.85\n",
      "\n",
      "Confusion matrix (Adult set, SVC):\n",
      "[[2108  120]\n",
      " [ 325  375]]\n",
      "\n",
      "F1 score (Adult set, SVC): 0.84\n",
      "\n",
      "Precision score (Adult set, SVC): 0.84\n",
      "\n",
      "Recall score (Adult set, SVC): 0.85\n"
     ]
    }
   ],
   "source": [
    "kf = KFold(n_splits=5, shuffle=True, random_state=1)\n",
    "\n",
    "cm_sum = np.zeros((2,2))\n",
    "total_score = 0\n",
    "f1_scores = []\n",
    "precision_scores = []\n",
    "recall_scores = [] \n",
    "\n",
    "for train, test in kf.split(X_subset, y_subset):\n",
    "    SVM_clf = SVC(C=1.0, kernel='rbf', gamma='scale', degree=3, probability=True)\n",
    "    SVM_clf.fit(X_subset[train], y_subset[train])\n",
    "    classifier_score = SVM_clf.score(X_subset[test], y_subset[test])\n",
    "    total_score += classifier_score\n",
    "\n",
    "    y_pred_fold = SVM_clf.predict(X_subset[test])\n",
    "    cm_sum += confusion_matrix(y_subset[test], y_pred_fold)\n",
    "\n",
    "    f1 = f1_score(y_subset[test], y_pred_fold, average='weighted')\n",
    "    f1_scores.append(f1)\n",
    "\n",
    "    precision = precision_score(y_subset[test], y_pred_fold, average='weighted')\n",
    "    precision_scores.append(precision)\n",
    "\n",
    "    recall = recall_score(y_subset[test], y_pred_fold, average='weighted')\n",
    "    recall_scores.append(recall)\n",
    "\n",
    "average_score = total_score / kf.get_n_splits() \n",
    "cm_avg = cm_sum / kf.get_n_splits()\n",
    "cm_avg_int = cm_avg.astype(int)\n",
    "  \n",
    "print(f\"Classification accuracy (Adult set, SVC): {average_score:.2f}\\n\")\n",
    "print(f\"Confusion matrix (Adult set, SVC):\\n{cm_avg_int}\\n\")\n",
    "print(f\"F1 score (Adult set, SVC): {np.mean(f1_scores):.2f}\\n\")\n",
    "print(f\"Precision score (Adult set, SVC): {np.mean(precision_scores):.2f}\\n\")\n",
    "print(f\"Recall score (Adult set, SVC): {np.mean(recall_scores):.2f}\")"
   ]
  }
 ],
 "metadata": {
  "kernelspec": {
   "display_name": "Python 3 (ipykernel)",
   "language": "python",
   "name": "python3"
  },
  "language_info": {
   "codemirror_mode": {
    "name": "ipython",
    "version": 3
   },
   "file_extension": ".py",
   "mimetype": "text/x-python",
   "name": "python",
   "nbconvert_exporter": "python",
   "pygments_lexer": "ipython3",
   "version": "3.10.13"
  }
 },
 "nbformat": 4,
 "nbformat_minor": 5
}
