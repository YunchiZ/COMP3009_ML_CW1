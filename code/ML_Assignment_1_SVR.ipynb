{
 "cells": [
  {
   "cell_type": "code",
   "execution_count": 13,
   "metadata": {},
   "outputs": [],
   "source": [
    "from ucimlrepo import fetch_ucirepo\n",
    "from sklearn.model_selection import cross_val_score, KFold\n",
    "from sklearn.metrics import mean_squared_error\n",
    "from sklearn.svm import SVR\n",
    "from sklearn.preprocessing import StandardScaler\n",
    "from sklearn.model_selection import train_test_split, GridSearchCV\n",
    "\n",
    "abalone = fetch_ucirepo(id=1)\n",
    "X = abalone.data.features\n",
    "y = abalone.data.targets"
   ]
  },
  {
   "cell_type": "code",
   "execution_count": 14,
   "metadata": {},
   "outputs": [],
   "source": [
    "X1= X.copy()\n",
    "X1['Sex'].replace('M', 0, inplace = True)\n",
    "X1['Sex'].replace('F', 1, inplace = True)\n",
    "X1['Sex'].replace('I', 2, inplace = True)"
   ]
  },
  {
   "cell_type": "code",
   "execution_count": 15,
   "metadata": {},
   "outputs": [],
   "source": [
    "scaler = StandardScaler()\n",
    "X1 = scaler.fit_transform(X1)\n",
    "y1 = y.values.ravel()\n",
    "X_train, X_test, y_train, y_test = train_test_split(X1, y1, test_size=0.3, random_state=1)"
   ]
  },
  {
   "cell_type": "code",
   "execution_count": 16,
   "metadata": {},
   "outputs": [
    {
     "name": "stdout",
     "output_type": "stream",
     "text": [
      "Mean squared error (Abalone set, Nested K-fold): 4.49\n"
     ]
    }
   ],
   "source": [
    "param_grid = {\n",
    "    'C': [1, 10],\n",
    "    'kernel': ['linear', 'rbf'],\n",
    "    'gamma': [0.1, 1],\n",
    "    'degree': [1]\n",
    "}\n",
    "\n",
    "outer_kf = KFold(n_splits=10, shuffle=True, random_state=1)\n",
    "inner_kf = KFold(n_splits=10, shuffle=True, random_state=1)\n",
    "grid_search = GridSearchCV(SVR(), param_grid, cv=inner_kf, scoring='neg_mean_squared_error', n_jobs=-1)\n",
    "nested_scores = cross_val_score(grid_search, X1, y1, cv=outer_kf, scoring='neg_mean_squared_error')\n",
    "\n",
    "print(f\"Mean squared error (Abalone set, Nested K-fold): {-nested_scores.mean():.2f}\")"
   ]
  },
  {
   "cell_type": "code",
   "execution_count": 18,
   "metadata": {},
   "outputs": [
    {
     "data": {
      "text/plain": [
       "4.5269854518211545"
      ]
     },
     "execution_count": 18,
     "metadata": {},
     "output_type": "execute_result"
    }
   ],
   "source": [
    "grid_search.fit(X_train, y_train)\n",
    "best_model = grid_search.best_estimator_\n",
    "test_mse = mean_squared_error(y_test, best_model.predict(X_test))\n",
    "test_mse"
   ]
  }
 ],
 "metadata": {
  "kernelspec": {
   "display_name": "MLE",
   "language": "python",
   "name": "python3"
  },
  "language_info": {
   "codemirror_mode": {
    "name": "ipython",
    "version": 3
   },
   "file_extension": ".py",
   "mimetype": "text/x-python",
   "name": "python",
   "nbconvert_exporter": "python",
   "pygments_lexer": "ipython3",
   "version": "3.10.13"
  }
 },
 "nbformat": 4,
 "nbformat_minor": 2
}